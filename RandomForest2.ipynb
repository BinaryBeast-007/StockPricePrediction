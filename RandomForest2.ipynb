{
  "nbformat": 4,
  "nbformat_minor": 0,
  "metadata": {
    "colab": {
      "private_outputs": true,
      "provenance": []
    },
    "kernelspec": {
      "name": "python3",
      "display_name": "Python 3"
    },
    "language_info": {
      "name": "python"
    },
    "gpuClass": "standard"
  },
  "cells": [
    {
      "cell_type": "code",
      "execution_count": null,
      "metadata": {
        "id": "g8R62uPENKJS"
      },
      "outputs": [],
      "source": [
        "import numpy as np\n",
        "import pandas as pd\n",
        "from sklearn.gaussian_process import GaussianProcessRegressor"
      ]
    },
    {
      "cell_type": "code",
      "source": [
        "import requests\n",
        "import pandas as pd\n",
        "import numpy as np\n",
        "import matplotlib.pyplot as plt\n",
        "from sklearn.linear_model import LinearRegression\n",
        "from sklearn.metrics import mean_squared_error\n",
        "from sklearn.model_selection import train_test_split\n",
        "from sklearn.gaussian_process import GaussianProcessRegressor\n",
        "from sklearn.gaussian_process.kernels import RBF, WhiteKernel, ConstantKernel as C, Matern, RationalQuadratic as RQ, ExpSineSquared as Exp, DotProduct as Lin\n",
        "from sklearn.preprocessing import StandardScaler\n",
        "from sklearn.ensemble import RandomForestRegressor"
      ],
      "metadata": {
        "id": "jaZdJulbNTi0"
      },
      "execution_count": null,
      "outputs": []
    },
    {
      "cell_type": "code",
      "source": [
        "import matplotlib.pyplot as plt"
      ],
      "metadata": {
        "id": "Ue8v2IUoNU7W"
      },
      "execution_count": null,
      "outputs": []
    },
    {
      "cell_type": "code",
      "source": [
        "# from google.colab import drive\n",
        "# drive.mount('/content/drive')"
      ],
      "metadata": {
        "id": "_SSxqlkJBfUG"
      },
      "execution_count": null,
      "outputs": []
    },
    {
      "cell_type": "code",
      "source": [
        "# path = '/content/drive/MyDrive/Abhay Kumar/train2.csv'\n",
        "# #path = '/content/drive/MyDrive/Abhay Kumar/train.csv'"
      ],
      "metadata": {
        "id": "mJ4r3moGPx1h"
      },
      "execution_count": null,
      "outputs": []
    },
    {
      "cell_type": "code",
      "source": [
        "train_data = pd.read_csv('train2.csv')"
      ],
      "metadata": {
        "id": "t2hsCdWpP2vT"
      },
      "execution_count": null,
      "outputs": []
    },
    {
      "cell_type": "code",
      "source": [
        "#train_data1 = train_data.drop(['TGD Consultancy Share price', 'TGD Power Share price'], axis = 1)\n",
        "#train_data1"
      ],
      "metadata": {
        "id": "VfbWJtT-P8Ff"
      },
      "execution_count": null,
      "outputs": []
    },
    {
      "cell_type": "code",
      "source": [
        "# for predicting tgd consultancy"
      ],
      "metadata": {
        "id": "nGDbJ8e4P-dk"
      },
      "execution_count": null,
      "outputs": []
    },
    {
      "cell_type": "code",
      "source": [
        "tgd_consultancy_inputs = train_data.drop(['TGD Consultancy Share price', 'TGD Power Share price', 'TGD Automobiles Share price'], axis=1)"
      ],
      "metadata": {
        "id": "yoLF503WQA0H"
      },
      "execution_count": null,
      "outputs": []
    },
    {
      "cell_type": "code",
      "source": [
        "tgd_consultancy_inputs"
      ],
      "metadata": {
        "id": "0rxmNBM_QC9-"
      },
      "execution_count": null,
      "outputs": []
    },
    {
      "cell_type": "code",
      "source": [
        "tgd_consultancy_outputs = train_data['TGD Consultancy Share price']"
      ],
      "metadata": {
        "id": "is89cey4QEvd"
      },
      "execution_count": null,
      "outputs": []
    },
    {
      "cell_type": "code",
      "source": [
        "tgd_consultancy_outputs"
      ],
      "metadata": {
        "id": "8jj7bL9OQGqk"
      },
      "execution_count": null,
      "outputs": []
    },
    {
      "cell_type": "code",
      "source": [
        "tgd_consultancy_inputs['dates'] = pd.to_datetime(tgd_consultancy_inputs['dates'])"
      ],
      "metadata": {
        "id": "0vFi2fF5QH8W"
      },
      "execution_count": null,
      "outputs": []
    },
    {
      "cell_type": "code",
      "source": [
        "tgd_consultancy_inputs"
      ],
      "metadata": {
        "id": "UJaclAHiQJkB"
      },
      "execution_count": null,
      "outputs": []
    },
    {
      "cell_type": "code",
      "source": [
        "Y = np.array([tgd_consultancy_inputs['dates'][i].timestamp() for i in range(len(tgd_consultancy_inputs))])\n",
        "data_time_stamped_consultancy = tgd_consultancy_inputs.assign(dates = Y)"
      ],
      "metadata": {
        "id": "tNodhqSRQL5i"
      },
      "execution_count": null,
      "outputs": []
    },
    {
      "cell_type": "code",
      "source": [
        "data_time_stamped_consultancy"
      ],
      "metadata": {
        "id": "jsL5eS9VQMto"
      },
      "execution_count": null,
      "outputs": []
    },
    {
      "cell_type": "markdown",
      "source": [],
      "metadata": {
        "id": "F68A-FcRUUu6"
      }
    },
    {
      "cell_type": "code",
      "source": [
        "rf_consult = RandomForestRegressor(n_estimators = 20, max_depth = 30)\n",
        "rf_consult.fit(data_time_stamped_consultancy, tgd_consultancy_outputs)\n",
        "pred_consult = rf_consult.predict(data_time_stamped_consultancy)"
      ],
      "metadata": {
        "id": "zxxl1otqRNf6"
      },
      "execution_count": null,
      "outputs": []
    },
    {
      "cell_type": "code",
      "source": [
        "plt.figure(figsize = (15,15))\n",
        "plt.plot(np.array(tgd_consultancy_inputs['dates']),pred_consult)\n",
        "plt.scatter(tgd_consultancy_inputs['dates'], tgd_consultancy_outputs, c = 'r', alpha = 0.1)\n",
        "plt.xlim(15000, 16000)\n",
        "plt.title('TGD Consultancy')\n",
        "plt.show()"
      ],
      "metadata": {
        "id": "kAh6am7FRmgr"
      },
      "execution_count": null,
      "outputs": []
    },
    {
      "cell_type": "code",
      "source": [
        "# for predicting TGD Automobiles  "
      ],
      "metadata": {
        "id": "VlkajWiQdLiX"
      },
      "execution_count": null,
      "outputs": []
    },
    {
      "cell_type": "code",
      "source": [
        "tgd_automobiles_inputs = train_data.drop(['TGD Power Share price', 'TGD Automobiles Share price'], axis=1)"
      ],
      "metadata": {
        "id": "Hftserlryxlt"
      },
      "execution_count": null,
      "outputs": []
    },
    {
      "cell_type": "code",
      "source": [
        "tgd_automobiles_inputs"
      ],
      "metadata": {
        "id": "0uqanXFdzNSQ"
      },
      "execution_count": null,
      "outputs": []
    },
    {
      "cell_type": "code",
      "source": [
        "tgd_automobiles_outputs = train_data['TGD Automobiles Share price']"
      ],
      "metadata": {
        "id": "9HCt6qh0zNjm"
      },
      "execution_count": null,
      "outputs": []
    },
    {
      "cell_type": "code",
      "source": [
        "tgd_automobiles_outputs"
      ],
      "metadata": {
        "id": "LDweg4KbzNof"
      },
      "execution_count": null,
      "outputs": []
    },
    {
      "cell_type": "code",
      "source": [
        "tgd_automobiles_inputs['dates'] = pd.to_datetime(tgd_automobiles_inputs['dates'])"
      ],
      "metadata": {
        "id": "5NTTQxtPzNt1"
      },
      "execution_count": null,
      "outputs": []
    },
    {
      "cell_type": "code",
      "source": [
        "tgd_automobiles_inputs"
      ],
      "metadata": {
        "id": "VEDpOnC3zl-y"
      },
      "execution_count": null,
      "outputs": []
    },
    {
      "cell_type": "code",
      "source": [
        "Y = np.array([tgd_automobiles_inputs['dates'][i].timestamp() for i in range(len(tgd_automobiles_inputs))])\n",
        "data_time_stamped_automobiles = tgd_automobiles_inputs.assign(dates = Y)"
      ],
      "metadata": {
        "id": "NV3PL9aqzmOm"
      },
      "execution_count": null,
      "outputs": []
    },
    {
      "cell_type": "code",
      "source": [
        "data_time_stamped_automobiles"
      ],
      "metadata": {
        "id": "s49z3cAa0S4N"
      },
      "execution_count": null,
      "outputs": []
    },
    {
      "cell_type": "code",
      "source": [
        "rf_auto = RandomForestRegressor(n_estimators = 20, max_depth = 30)\n",
        "rf_auto.fit(data_time_stamped_automobiles, tgd_automobiles_outputs)\n",
        "pred_auto = rf_auto.predict(data_time_stamped_automobiles)"
      ],
      "metadata": {
        "id": "t9n7IY2X0S-2"
      },
      "execution_count": null,
      "outputs": []
    },
    {
      "cell_type": "code",
      "source": [
        "plt.figure(figsize = (15,15))\n",
        "plt.plot(np.array(tgd_automobiles_inputs['dates']),pred_auto)\n",
        "plt.scatter(tgd_automobiles_inputs['dates'], tgd_automobiles_outputs, c = 'r', alpha = 0.1)\n",
        "plt.xlim(10000, 16000)\n",
        "plt.show()"
      ],
      "metadata": {
        "id": "N_Q4vae20TMI"
      },
      "execution_count": null,
      "outputs": []
    },
    {
      "cell_type": "code",
      "source": [
        "# for predicting tgd Power"
      ],
      "metadata": {
        "id": "E0zox8tM8ziF"
      },
      "execution_count": null,
      "outputs": []
    },
    {
      "cell_type": "code",
      "source": [
        "tgd_power_inputs = train_data.drop(['TGD Power Share price','TGD Consultancy Share price'],axis=1)"
      ],
      "metadata": {
        "id": "xftTCLa38zic"
      },
      "execution_count": null,
      "outputs": []
    },
    {
      "cell_type": "code",
      "source": [
        "tgd_power_outputs = train_data['TGD Power Share price']"
      ],
      "metadata": {
        "id": "R_mWwW4k8zif"
      },
      "execution_count": null,
      "outputs": []
    },
    {
      "cell_type": "code",
      "source": [
        "tgd_power_outputs"
      ],
      "metadata": {
        "id": "1dUTDE3h8zif"
      },
      "execution_count": null,
      "outputs": []
    },
    {
      "cell_type": "code",
      "source": [
        "tgd_power_inputs['dates'] = pd.to_datetime(tgd_power_inputs['dates'])"
      ],
      "metadata": {
        "id": "6q82lqHF8zig"
      },
      "execution_count": null,
      "outputs": []
    },
    {
      "cell_type": "code",
      "source": [
        "tgd_power_inputs"
      ],
      "metadata": {
        "id": "Yxt4VgkE8zih"
      },
      "execution_count": null,
      "outputs": []
    },
    {
      "cell_type": "code",
      "source": [
        "Y = np.array([tgd_power_inputs['dates'][i].timestamp() for i in range(len(tgd_power_inputs))])\n",
        "data_time_stamped_power = tgd_power_inputs.assign(dates = Y)"
      ],
      "metadata": {
        "id": "4t3hqhjC8zij"
      },
      "execution_count": null,
      "outputs": []
    },
    {
      "cell_type": "code",
      "source": [
        "data_time_stamped_power"
      ],
      "metadata": {
        "id": "Ez5TIGd38zil"
      },
      "execution_count": null,
      "outputs": []
    },
    {
      "cell_type": "markdown",
      "source": [],
      "metadata": {
        "id": "pi6-5NU48zil"
      }
    },
    {
      "cell_type": "code",
      "source": [
        "rf_power = RandomForestRegressor(n_estimators = 20, max_depth = 30)\n",
        "rf_power.fit(data_time_stamped_power, tgd_power_outputs)\n",
        "pred_power = rf_power.predict(data_time_stamped_power)"
      ],
      "metadata": {
        "id": "mJ1GiIiH8zin"
      },
      "execution_count": null,
      "outputs": []
    },
    {
      "cell_type": "code",
      "source": [
        "pred_power"
      ],
      "metadata": {
        "id": "HFqH91tNE9m0"
      },
      "execution_count": null,
      "outputs": []
    },
    {
      "cell_type": "code",
      "source": [
        "plt.figure(figsize = (15,15))\n",
        "plt.plot(np.array(tgd_power_inputs['dates']),pred_power)\n",
        "plt.scatter(tgd_power_inputs['dates'], tgd_power_outputs, c = 'r', alpha = 0.1)\n",
        "plt.xlim(10000, 16000)\n",
        "plt.title('TGD Power')\n",
        "plt.show()"
      ],
      "metadata": {
        "id": "XeTss5S78zip"
      },
      "execution_count": null,
      "outputs": []
    },
    {
      "cell_type": "code",
      "source": [
        "sum=np.array(pred_auto + pred_consult + pred_power)\n",
        "sum"
      ],
      "metadata": {
        "id": "n-uYe2px8zip"
      },
      "execution_count": null,
      "outputs": []
    },
    {
      "cell_type": "code",
      "source": [
        "plt.figure(figsize = (15,15))\n",
        "plt.plot(np.array(tgd_power_inputs['dates']),pred_auto + pred_consult + pred_power)\n",
        "plt.scatter(tgd_power_inputs['dates'], tgd_power_outputs + tgd_automobiles_outputs + tgd_consultancy_outputs, c = 'r', alpha = 0.1)\n",
        "plt.xlim(10000, 12000)\n",
        "plt.title('TGD Overall')\n",
        "plt.show()"
      ],
      "metadata": {
        "id": "qeLJxzdzGGFP"
      },
      "execution_count": null,
      "outputs": []
    },
    {
      "cell_type": "code",
      "source": [
        "test_data = pd.read_csv('test2.csv')"
      ],
      "metadata": {
        "id": "44oA9eurKGXC"
      },
      "execution_count": null,
      "outputs": []
    },
    {
      "cell_type": "code",
      "source": [
        "test_data"
      ],
      "metadata": {
        "id": "cTImBBx6KGXF"
      },
      "execution_count": null,
      "outputs": []
    },
    {
      "cell_type": "code",
      "source": [
        "test_data['dates'] = pd.to_datetime(test_data['dates'])\n",
        "Y = np.array([test_data['dates'][i].timestamp() for i in range(len(test_data))])\n",
        "data_time_stamped_test_data = test_data.assign(dates = Y)\n",
        "\n",
        "\n",
        "test_consult=rf_consult.predict(data_time_stamped_test_data)\n",
        "#data_time_stamped_test_data['TGD Consultancy Share price'] = test_consult\n",
        "data_time_stamped_test_data['TGD Consultancy Share price'] = test_consult.tolist()\n",
        "test_auto=rf_auto.predict(data_time_stamped_test_data)\n",
        "data_time_stamped_test_data['TGD Automobiles Share price'] = test_auto.tolist()\n",
        "data_time_stamped_test_data=data_time_stamped_test_data.drop(['TGD Consultancy Share price'],axis=1)\n",
        "test_power=rf_power.predict(data_time_stamped_test_data)\n",
        "\n",
        "# #Bootstrap\n",
        "# n_samples = 100\n",
        "# bootstraps = []\n",
        "# for i in range(n_samples):\n",
        "#     indices = np.random.choice(data_time_stamped_test_data.shape[0], size=data_time_stamped_test_data.shape[0], replace=True)\n",
        "#     bootstrap_sample = data_time_stamped_test_data.iloc[indices]\n",
        "#     bootstraps.append(bootstrap_sample)\n",
        "\n",
        "# #Predictions on Bootstrap samples\n",
        "# predictions = []\n",
        "# for bootstrap_sample in bootstraps:\n",
        "#     y_pred = rf_consult.predict(bootstrap_sample)\n",
        "#     predictions.append(y_pred)\n",
        "\n",
        "# # Uncertanity score calculate\n",
        "# uncertainty_consult = np.std(predictions, axis = 0)\n",
        "# print(f\"Uncertainty for each individual prediction: {uncertainty_consult}\")\n",
        "\n",
        "result=np.array(test_power + test_consult + test_auto)\n",
        "\n",
        "plt.figure(figsize = (15,15))\n",
        "\n",
        "plt.plot(np.array(test_data['dates']),test_power + test_consult + test_auto)\n",
        "# plt.scatter(test_data['dates'], c = 'r', alpha = 0.1)\n",
        "# plt.xlim(10000, 12000)\n",
        "plt.axis([70000, 75000, 1000, 2000])\n",
        "plt.title('TGD Test Overall')\n",
        "plt.show()"
      ],
      "metadata": {
        "id": "me6ssqw4YYwd"
      },
      "execution_count": null,
      "outputs": []
    },
    {
      "cell_type": "code",
      "source": [
        "#len(uncertainty_consult)"
      ],
      "metadata": {
        "id": "AZRdwMQfojdK"
      },
      "execution_count": null,
      "outputs": []
    },
    {
      "cell_type": "code",
      "source": [
        "#uncertainty_consult"
      ],
      "metadata": {
        "id": "M0XGYQbxBHFa"
      },
      "execution_count": null,
      "outputs": []
    },
    {
      "cell_type": "code",
      "source": [
        "# 3plt.figure(figsize = (15,15))\n",
        "# plt.scatter(np.array(test_data['dates']),uncertainty_consult)\n",
        "# #plt.scatter(tgd_power_inputs['dates'], tgd_power_outputs + tgd_automobiles_outputs + tgd_consultancy_outputs, c = 'r', alpha = 0.1)\n",
        "# #plt.xlim(15, 500)\n",
        "# plt.axis([70000,71000 , 0 , 20])\n",
        "# plt.title('TGD Automobile Uncertainity')\n",
        "# plt.show()"
      ],
      "metadata": {
        "id": "WXnYptrFqEVv"
      },
      "execution_count": null,
      "outputs": []
    },
    {
      "cell_type": "code",
      "source": [
        "df_test=pd.DataFrame(result)\n",
        "df_test\n",
        "df_test.to_csv('my_file4.csv', index=True)"
      ],
      "metadata": {
        "id": "QpJFXFFRdTk1"
      },
      "execution_count": null,
      "outputs": []
    }
  ]
}