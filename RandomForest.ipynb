{
  "cells": [
    {
      "cell_type": "code",
      "execution_count": null,
      "metadata": {
        "id": "g8R62uPENKJS"
      },
      "outputs": [
        {
          "ename": "",
          "evalue": "",
          "output_type": "error",
          "traceback": [
            "\u001b[1;31mJupyter cannot be started. Error attempting to locate jupyter: Running cells with 'Python 3.10.1 64-bit' requires jupyter and notebook package.\n",
            "Run the following command to install 'jupyter and notebook' into the Python environment. \n",
            "Command: '/usr/local/bin/python3 -m pip install jupyter notebook -U'"
          ]
        }
      ],
      "source": [
        "import numpy as np\n",
        "import pandas as pd\n",
        "from sklearn.gaussian_process import GaussianProcessRegressor"
      ]
    },
    {
      "cell_type": "code",
      "execution_count": 1,
      "metadata": {
        "id": "jaZdJulbNTi0"
      },
      "outputs": [
        {
          "ename": "ModuleNotFoundError",
          "evalue": "No module named 'requests'",
          "output_type": "error",
          "traceback": [
            "\u001b[0;31m---------------------------------------------------------------------------\u001b[0m",
            "\u001b[0;31mModuleNotFoundError\u001b[0m                       Traceback (most recent call last)",
            "Cell \u001b[0;32mIn[1], line 1\u001b[0m\n\u001b[0;32m----> 1\u001b[0m \u001b[38;5;28;01mimport\u001b[39;00m \u001b[38;5;21;01mrequests\u001b[39;00m\n\u001b[1;32m      2\u001b[0m \u001b[38;5;28;01mimport\u001b[39;00m \u001b[38;5;21;01mpandas\u001b[39;00m \u001b[38;5;28;01mas\u001b[39;00m \u001b[38;5;21;01mpd\u001b[39;00m\n\u001b[1;32m      3\u001b[0m \u001b[38;5;28;01mimport\u001b[39;00m \u001b[38;5;21;01mnumpy\u001b[39;00m \u001b[38;5;28;01mas\u001b[39;00m \u001b[38;5;21;01mnp\u001b[39;00m\n",
            "\u001b[0;31mModuleNotFoundError\u001b[0m: No module named 'requests'"
          ]
        }
      ],
      "source": [
        "import requests\n",
        "import pandas as pd\n",
        "import numpy as np\n",
        "import matplotlib.pyplot as plt\n",
        "from sklearn.linear_model import LinearRegression\n",
        "from sklearn.metrics import mean_squared_error\n",
        "from sklearn.model_selection import train_test_split\n",
        "from sklearn.gaussian_process import GaussianProcessRegressor\n",
        "from sklearn.gaussian_process.kernels import RBF, WhiteKernel, ConstantKernel as C, Matern, RationalQuadratic as RQ, ExpSineSquared as Exp, DotProduct as Lin\n",
        "from sklearn.preprocessing import StandardScaler\n",
        "from sklearn.ensemble import RandomForestRegressor"
      ]
    },
    {
      "cell_type": "code",
      "execution_count": null,
      "metadata": {
        "id": "Ue8v2IUoNU7W"
      },
      "outputs": [],
      "source": [
        "import matplotlib.pyplot as plt"
      ]
    },
    {
      "cell_type": "code",
      "execution_count": null,
      "metadata": {
        "id": "_SSxqlkJBfUG"
      },
      "outputs": [],
      "source": [
        "# from google.colab import drive\n",
        "# drive.mount('/content/drive')"
      ]
    },
    {
      "cell_type": "code",
      "execution_count": null,
      "metadata": {
        "id": "mJ4r3moGPx1h"
      },
      "outputs": [],
      "source": [
        "# path = '/content/drive/MyDrive/Abhay Kumar/train2.csv'\n",
        "# #path = '/content/drive/MyDrive/Abhay Kumar/train.csv'"
      ]
    },
    {
      "cell_type": "code",
      "execution_count": null,
      "metadata": {
        "id": "t2hsCdWpP2vT"
      },
      "outputs": [],
      "source": [
        "train_data = pd.read_csv('train2.csv')"
      ]
    },
    {
      "cell_type": "code",
      "execution_count": null,
      "metadata": {
        "id": "VfbWJtT-P8Ff"
      },
      "outputs": [],
      "source": [
        "#train_data1 = train_data.drop(['TGD Consultancy Share price', 'TGD Power Share price'], axis = 1)\n",
        "#train_data1"
      ]
    },
    {
      "cell_type": "code",
      "execution_count": null,
      "metadata": {
        "id": "nGDbJ8e4P-dk"
      },
      "outputs": [],
      "source": [
        "# for predicting tgd consultancy"
      ]
    },
    {
      "cell_type": "code",
      "execution_count": null,
      "metadata": {
        "id": "yoLF503WQA0H"
      },
      "outputs": [],
      "source": [
        "tgd_consultancy_inputs = train_data.drop(['TGD Consultancy Share price', 'TGD Power Share price', 'TGD Automobiles Share price'], axis=1)"
      ]
    },
    {
      "cell_type": "code",
      "execution_count": null,
      "metadata": {
        "id": "0rxmNBM_QC9-"
      },
      "outputs": [],
      "source": [
        "tgd_consultancy_inputs"
      ]
    },
    {
      "cell_type": "code",
      "execution_count": null,
      "metadata": {
        "id": "is89cey4QEvd"
      },
      "outputs": [],
      "source": [
        "tgd_consultancy_outputs = train_data['TGD Consultancy Share price']"
      ]
    },
    {
      "cell_type": "code",
      "execution_count": null,
      "metadata": {
        "id": "8jj7bL9OQGqk"
      },
      "outputs": [],
      "source": [
        "tgd_consultancy_outputs"
      ]
    },
    {
      "cell_type": "code",
      "execution_count": null,
      "metadata": {
        "id": "0vFi2fF5QH8W"
      },
      "outputs": [],
      "source": [
        "tgd_consultancy_inputs['dates'] = pd.to_datetime(tgd_consultancy_inputs['dates'])"
      ]
    },
    {
      "cell_type": "code",
      "execution_count": null,
      "metadata": {
        "id": "UJaclAHiQJkB"
      },
      "outputs": [],
      "source": [
        "tgd_consultancy_inputs"
      ]
    },
    {
      "cell_type": "code",
      "execution_count": null,
      "metadata": {
        "id": "tNodhqSRQL5i"
      },
      "outputs": [],
      "source": [
        "Y = np.array([tgd_consultancy_inputs['dates'][i].timestamp() for i in range(len(tgd_consultancy_inputs))])\n",
        "data_time_stamped_consultancy = tgd_consultancy_inputs.assign(dates = Y)"
      ]
    },
    {
      "cell_type": "code",
      "execution_count": null,
      "metadata": {
        "id": "jsL5eS9VQMto"
      },
      "outputs": [],
      "source": [
        "data_time_stamped_consultancy"
      ]
    },
    {
      "cell_type": "markdown",
      "metadata": {
        "id": "F68A-FcRUUu6"
      },
      "source": []
    },
    {
      "cell_type": "code",
      "execution_count": null,
      "metadata": {
        "id": "zxxl1otqRNf6"
      },
      "outputs": [],
      "source": [
        "rf_consult = RandomForestRegressor()\n",
        "rf_consult.fit(data_time_stamped_consultancy, tgd_consultancy_outputs)\n",
        "pred_consult = rf_consult.predict(data_time_stamped_consultancy)"
      ]
    },
    {
      "cell_type": "code",
      "execution_count": null,
      "metadata": {
        "id": "kAh6am7FRmgr"
      },
      "outputs": [],
      "source": [
        "plt.figure(figsize = (15,15))\n",
        "plt.plot(np.array(tgd_consultancy_inputs['dates']),pred_consult)\n",
        "plt.scatter(tgd_consultancy_inputs['dates'], tgd_consultancy_outputs, c = 'r', alpha = 0.1)\n",
        "plt.xlim(15000, 16000)\n",
        "plt.title('TGD Consultancy')\n",
        "plt.show()"
      ]
    },
    {
      "cell_type": "code",
      "execution_count": null,
      "metadata": {
        "id": "VlkajWiQdLiX"
      },
      "outputs": [],
      "source": [
        "# for predicting TGD Automobiles  "
      ]
    },
    {
      "cell_type": "code",
      "execution_count": null,
      "metadata": {
        "id": "Hftserlryxlt"
      },
      "outputs": [],
      "source": [
        "tgd_automobiles_inputs = train_data.drop(['TGD Power Share price', 'TGD Automobiles Share price'], axis=1)"
      ]
    },
    {
      "cell_type": "code",
      "execution_count": null,
      "metadata": {
        "id": "0uqanXFdzNSQ"
      },
      "outputs": [],
      "source": [
        "tgd_automobiles_inputs"
      ]
    },
    {
      "cell_type": "code",
      "execution_count": null,
      "metadata": {
        "id": "9HCt6qh0zNjm"
      },
      "outputs": [],
      "source": [
        "tgd_automobiles_outputs = train_data['TGD Automobiles Share price']"
      ]
    },
    {
      "cell_type": "code",
      "execution_count": null,
      "metadata": {
        "id": "LDweg4KbzNof"
      },
      "outputs": [],
      "source": [
        "tgd_automobiles_outputs"
      ]
    },
    {
      "cell_type": "code",
      "execution_count": null,
      "metadata": {
        "id": "5NTTQxtPzNt1"
      },
      "outputs": [],
      "source": [
        "tgd_automobiles_inputs['dates'] = pd.to_datetime(tgd_automobiles_inputs['dates'])"
      ]
    },
    {
      "cell_type": "code",
      "execution_count": null,
      "metadata": {
        "id": "VEDpOnC3zl-y"
      },
      "outputs": [],
      "source": [
        "tgd_automobiles_inputs"
      ]
    },
    {
      "cell_type": "code",
      "execution_count": null,
      "metadata": {
        "id": "NV3PL9aqzmOm"
      },
      "outputs": [],
      "source": [
        "Y = np.array([tgd_automobiles_inputs['dates'][i].timestamp() for i in range(len(tgd_automobiles_inputs))])\n",
        "data_time_stamped_automobiles = tgd_automobiles_inputs.assign(dates = Y)"
      ]
    },
    {
      "cell_type": "code",
      "execution_count": null,
      "metadata": {
        "id": "s49z3cAa0S4N"
      },
      "outputs": [],
      "source": [
        "data_time_stamped_automobiles"
      ]
    },
    {
      "cell_type": "code",
      "execution_count": null,
      "metadata": {
        "id": "t9n7IY2X0S-2"
      },
      "outputs": [],
      "source": [
        "rf_auto = RandomForestRegressor()\n",
        "rf_auto.fit(data_time_stamped_automobiles, tgd_automobiles_outputs)\n",
        "pred_auto = rf_auto.predict(data_time_stamped_automobiles)"
      ]
    },
    {
      "cell_type": "code",
      "execution_count": null,
      "metadata": {
        "id": "N_Q4vae20TMI"
      },
      "outputs": [],
      "source": [
        "plt.figure(figsize = (15,15))\n",
        "plt.plot(np.array(tgd_automobiles_inputs['dates']),pred_auto)\n",
        "plt.scatter(tgd_automobiles_inputs['dates'], tgd_automobiles_outputs, c = 'r', alpha = 0.1)\n",
        "plt.xlim(10000, 16000)\n",
        "plt.show()"
      ]
    },
    {
      "cell_type": "code",
      "execution_count": null,
      "metadata": {
        "id": "KDoZaruVQ4Lv"
      },
      "outputs": [],
      "source": []
    },
    {
      "cell_type": "code",
      "execution_count": null,
      "metadata": {
        "id": "94GuXJhK0ixi"
      },
      "outputs": [],
      "source": []
    },
    {
      "cell_type": "code",
      "execution_count": null,
      "metadata": {
        "id": "zi4ucSTO9z3A"
      },
      "outputs": [],
      "source": []
    },
    {
      "cell_type": "code",
      "execution_count": null,
      "metadata": {
        "id": "HvHMnMwz8zOk"
      },
      "outputs": [],
      "source": []
    },
    {
      "cell_type": "code",
      "execution_count": null,
      "metadata": {
        "id": "E0zox8tM8ziF"
      },
      "outputs": [],
      "source": [
        "# for predicting tgd Power"
      ]
    },
    {
      "cell_type": "code",
      "execution_count": null,
      "metadata": {
        "id": "xftTCLa38zic"
      },
      "outputs": [],
      "source": [
        "tgd_power_inputs = train_data.drop(['TGD Power Share price','TGD Consultancy Share price'],axis=1)"
      ]
    },
    {
      "cell_type": "code",
      "execution_count": null,
      "metadata": {
        "id": "R_mWwW4k8zif"
      },
      "outputs": [],
      "source": [
        "tgd_power_outputs = train_data['TGD Power Share price']"
      ]
    },
    {
      "cell_type": "code",
      "execution_count": null,
      "metadata": {
        "id": "1dUTDE3h8zif"
      },
      "outputs": [],
      "source": [
        "tgd_power_outputs"
      ]
    },
    {
      "cell_type": "code",
      "execution_count": null,
      "metadata": {
        "id": "6q82lqHF8zig"
      },
      "outputs": [],
      "source": [
        "tgd_power_inputs['dates'] = pd.to_datetime(tgd_power_inputs['dates'])"
      ]
    },
    {
      "cell_type": "code",
      "execution_count": null,
      "metadata": {
        "id": "Yxt4VgkE8zih"
      },
      "outputs": [],
      "source": [
        "tgd_power_inputs"
      ]
    },
    {
      "cell_type": "code",
      "execution_count": null,
      "metadata": {
        "id": "4t3hqhjC8zij"
      },
      "outputs": [],
      "source": [
        "Y = np.array([tgd_power_inputs['dates'][i].timestamp() for i in range(len(tgd_power_inputs))])\n",
        "data_time_stamped_power = tgd_power_inputs.assign(dates = Y)"
      ]
    },
    {
      "cell_type": "code",
      "execution_count": null,
      "metadata": {
        "id": "Ez5TIGd38zil"
      },
      "outputs": [],
      "source": [
        "data_time_stamped_power"
      ]
    },
    {
      "cell_type": "markdown",
      "metadata": {
        "id": "pi6-5NU48zil"
      },
      "source": []
    },
    {
      "cell_type": "code",
      "execution_count": null,
      "metadata": {
        "id": "mJ1GiIiH8zin"
      },
      "outputs": [],
      "source": [
        "rf_power = RandomForestRegressor()\n",
        "rf_power.fit(data_time_stamped_power, tgd_power_outputs)\n",
        "pred_power = rf_power.predict(data_time_stamped_power)"
      ]
    },
    {
      "cell_type": "code",
      "execution_count": null,
      "metadata": {
        "id": "HFqH91tNE9m0"
      },
      "outputs": [],
      "source": [
        "pred_power"
      ]
    },
    {
      "cell_type": "code",
      "execution_count": null,
      "metadata": {
        "id": "XeTss5S78zip"
      },
      "outputs": [],
      "source": [
        "plt.figure(figsize = (15,15))\n",
        "plt.plot(np.array(tgd_power_inputs['dates']),pred_power)\n",
        "plt.scatter(tgd_power_inputs['dates'], tgd_power_outputs, c = 'r', alpha = 0.1)\n",
        "plt.xlim(10000, 16000)\n",
        "plt.title('TGD Power')\n",
        "plt.show()"
      ]
    },
    {
      "cell_type": "code",
      "execution_count": null,
      "metadata": {
        "id": "n-uYe2px8zip"
      },
      "outputs": [],
      "source": [
        "sum=np.array(pred_auto + pred_consult + pred_power)\n",
        "sum"
      ]
    },
    {
      "cell_type": "code",
      "execution_count": null,
      "metadata": {
        "id": "HgxKCUY1Ggn3"
      },
      "outputs": [],
      "source": []
    },
    {
      "cell_type": "code",
      "execution_count": null,
      "metadata": {
        "id": "qeLJxzdzGGFP"
      },
      "outputs": [],
      "source": [
        "plt.figure(figsize = (15,15))\n",
        "plt.plot(np.array(tgd_power_inputs['dates']),pred_auto + pred_consult + pred_power)\n",
        "plt.scatter(tgd_power_inputs['dates'], tgd_power_outputs + tgd_automobiles_outputs + tgd_consultancy_outputs, c = 'r', alpha = 0.1)\n",
        "plt.xlim(10000, 12000)\n",
        "plt.title('TGD Overall')\n",
        "plt.show()"
      ]
    },
    {
      "cell_type": "code",
      "execution_count": null,
      "metadata": {
        "id": "44oA9eurKGXC"
      },
      "outputs": [],
      "source": [
        "test_data = pd.read_csv('test2.csv')"
      ]
    },
    {
      "cell_type": "code",
      "execution_count": null,
      "metadata": {
        "id": "cTImBBx6KGXF"
      },
      "outputs": [],
      "source": [
        "test_data"
      ]
    },
    {
      "cell_type": "code",
      "execution_count": null,
      "metadata": {
        "id": "me6ssqw4YYwd"
      },
      "outputs": [],
      "source": [
        "test_data['dates'] = pd.to_datetime(test_data['dates'])\n",
        "Y = np.array([test_data['dates'][i].timestamp() for i in range(len(test_data))])\n",
        "data_time_stamped_test_data = test_data.assign(dates = Y)\n",
        "\n",
        "\n",
        "test_consult=rf_consult.predict(data_time_stamped_test_data)\n",
        "\n",
        "\n",
        "\n",
        "#data_time_stamped_test_data['TGD Consultancy Share price'] = test_consult\n",
        "data_time_stamped_test_data['TGD Consultancy Share price'] = test_consult.tolist()\n",
        "test_auto=rf_auto.predict(data_time_stamped_test_data)\n",
        "data_time_stamped_test_data['TGD Automobiles Share price'] = test_auto.tolist()\n",
        "data_time_stamped_test_data=data_time_stamped_test_data.drop(['TGD Consultancy Share price'],axis=1)\n",
        "test_power=rf_power.predict(data_time_stamped_test_data)\n",
        "\n",
        "#Bootstrap\n",
        "n_samples = 100\n",
        "bootstraps = []\n",
        "for i in range(n_samples):\n",
        "    indices = np.random.choice(data_time_stamped_test_data.shape[0], size=data_time_stamped_test_data.shape[0], replace=True)\n",
        "    bootstrap_sample = data_time_stamped_test_data.iloc[indices]\n",
        "    bootstraps.append(bootstrap_sample)\n",
        "\n",
        "#Predictions on Bootstrap samples\n",
        "predictions = []\n",
        "for bootstrap_sample in bootstraps:\n",
        "    y_pred = rf_consult.predict(bootstrap_sample)\n",
        "    predictions.append(y_pred)\n",
        "\n",
        "# Uncertanity score calculate\n",
        "uncertainty_consult = np.std(predictions, axis = 0)\n",
        "print(f\"Uncertainty for each individual prediction: {uncertainty_consult}\")\n",
        "\n",
        "result=np.array(test_power + test_consult + test_auto)\n",
        "\n",
        "plt.figure(figsize = (15,15))\n",
        "\n",
        "plt.plot(np.array(test_data['dates']),test_power + test_consult + test_auto)\n",
        "# plt.scatter(test_data['dates'], c = 'r', alpha = 0.1)\n",
        "# plt.xlim(10000, 12000)\n",
        "plt.axis([70000, 75000, 1000, 2000])\n",
        "plt.title('TGD Test Overall')\n",
        "plt.show()"
      ]
    },
    {
      "cell_type": "code",
      "execution_count": null,
      "metadata": {
        "id": "AZRdwMQfojdK"
      },
      "outputs": [],
      "source": [
        "len(uncertainty_consult)"
      ]
    },
    {
      "cell_type": "code",
      "execution_count": null,
      "metadata": {
        "id": "M0XGYQbxBHFa"
      },
      "outputs": [],
      "source": [
        "uncertainty_consult"
      ]
    },
    {
      "cell_type": "code",
      "execution_count": null,
      "metadata": {
        "id": "WXnYptrFqEVv"
      },
      "outputs": [],
      "source": [
        "plt.figure(figsize = (15,15))\n",
        "plt.scatter(np.array(test_data['dates']),uncertainty_consult)\n",
        "#plt.scatter(tgd_power_inputs['dates'], tgd_power_outputs + tgd_automobiles_outputs + tgd_consultancy_outputs, c = 'r', alpha = 0.1)\n",
        "#plt.xlim(15, 500)\n",
        "plt.axis([70000,71000 , 0 , 20])\n",
        "plt.title('TGD Automobile Uncertainity')\n",
        "plt.show()"
      ]
    },
    {
      "cell_type": "code",
      "execution_count": null,
      "metadata": {
        "id": "AA-_pG9EqWgZ"
      },
      "outputs": [],
      "source": []
    },
    {
      "cell_type": "code",
      "execution_count": null,
      "metadata": {
        "id": "QpJFXFFRdTk1"
      },
      "outputs": [],
      "source": [
        "df_test=pd.DataFrame(result)\n",
        "df_test\n",
        "df_test.to_csv('my_file4.csv', index=True)"
      ]
    }
  ],
  "metadata": {
    "colab": {
      "private_outputs": true,
      "provenance": []
    },
    "gpuClass": "standard",
    "kernelspec": {
      "display_name": "Python 3",
      "name": "python3"
    },
    "language_info": {
      "codemirror_mode": {
        "name": "ipython",
        "version": 3
      },
      "file_extension": ".py",
      "mimetype": "text/x-python",
      "name": "python",
      "nbconvert_exporter": "python",
      "pygments_lexer": "ipython3",
      "version": "3.10.1"
    }
  },
  "nbformat": 4,
  "nbformat_minor": 0
}
